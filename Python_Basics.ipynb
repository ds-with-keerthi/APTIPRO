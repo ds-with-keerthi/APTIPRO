{
 "cells": [
  {
   "cell_type": "markdown",
   "id": "54e17133-2891-4ada-a715-c84a4a6f253f",
   "metadata": {},
   "source": [
    "### Overview\n",
    "Local Setup - https://www.youtube.com/watch?v=W-Bi6AjEQfM&t=35s:\r\n",
    "- Single line Comments and multiline commentics\r\n",
    "- Basic Syntax Rules in Python\r\n",
    "- Understanding Semantics in Python\r\n",
    "- Common Syntax Errors and How to Avoid Them\r\n",
    "- Practical Code Examples"
   ]
  },
  {
   "cell_type": "markdown",
   "id": "11b011ca-7136-4ecf-8933-e3ebf60499f9",
   "metadata": {},
   "source": [
    "## Case sensitivity- Python is case sensitive"
   ]
  },
  {
   "cell_type": "code",
   "execution_count": 6,
   "id": "dd287ee8-baa6-45a2-ad3f-d98fb62f9ffd",
   "metadata": {},
   "outputs": [],
   "source": [
    "name = 'hi'\n",
    "Name = 'hai'"
   ]
  },
  {
   "cell_type": "code",
   "execution_count": 7,
   "id": "ce1f648a-8988-4635-b537-48b5c5f8e762",
   "metadata": {},
   "outputs": [
    {
     "data": {
      "text/plain": [
       "'hi'"
      ]
     },
     "execution_count": 7,
     "metadata": {},
     "output_type": "execute_result"
    }
   ],
   "source": [
    "name"
   ]
  },
  {
   "cell_type": "code",
   "execution_count": 8,
   "id": "2fa01747-6f76-4eed-bca8-58f172dcfca5",
   "metadata": {},
   "outputs": [
    {
     "data": {
      "text/plain": [
       "'hai'"
      ]
     },
     "execution_count": 8,
     "metadata": {},
     "output_type": "execute_result"
    }
   ],
   "source": [
    "Name"
   ]
  },
  {
   "cell_type": "markdown",
   "id": "c721ed98-82e5-4521-a7fc-ac35a1a221d2",
   "metadata": {},
   "source": [
    "## Indentation"
   ]
  },
  {
   "cell_type": "code",
   "execution_count": 15,
   "id": "c2ff35a4-7754-466c-b063-82ed373ad1cb",
   "metadata": {},
   "outputs": [
    {
     "name": "stdout",
     "output_type": "stream",
     "text": [
      "something\n",
      "just print\n",
      "The END\n"
     ]
    }
   ],
   "source": [
    "if True:\n",
    "    print(\"something\")\n",
    "    if False:\n",
    "        print(\"do nothing\")\n",
    "    print(\"just print\")\n",
    "print(\"The END\") "
   ]
  },
  {
   "cell_type": "code",
   "execution_count": 17,
   "id": "2f8fc241-22f0-4db6-affe-94e50a46d16f",
   "metadata": {},
   "outputs": [
    {
     "data": {
      "text/plain": [
       "0"
      ]
     },
     "execution_count": 17,
     "metadata": {},
     "output_type": "execute_result"
    }
   ],
   "source": [
    "0"
   ]
  },
  {
   "cell_type": "markdown",
   "id": "64ee3258-49d6-49a4-a66a-32f6d083f1bb",
   "metadata": {},
   "source": [
    "## Python comments"
   ]
  },
  {
   "cell_type": "code",
   "execution_count": 20,
   "id": "22417149-653b-47f3-9436-ebd44ac5381e",
   "metadata": {},
   "outputs": [
    {
     "name": "stdout",
     "output_type": "stream",
     "text": [
      "hi\n"
     ]
    }
   ],
   "source": [
    "####### This is comment\n",
    "### this \n",
    "## is\n",
    "### comment\n",
    "print(\"hi\")"
   ]
  },
  {
   "cell_type": "code",
   "execution_count": 21,
   "id": "92ac8607-897f-4421-8b7e-cddf74f0f006",
   "metadata": {},
   "outputs": [
    {
     "name": "stdout",
     "output_type": "stream",
     "text": [
      "hai\n"
     ]
    }
   ],
   "source": [
    "\"\"\"\n",
    "Thi\n",
    "is\n",
    "commnet\n",
    "\"\"\"\n",
    "print(\"hai\")"
   ]
  },
  {
   "cell_type": "markdown",
   "id": "6adc0ab3-c672-4e6b-80e6-57e86d27f4bc",
   "metadata": {},
   "source": [
    "## Line Continuation"
   ]
  },
  {
   "cell_type": "code",
   "execution_count": 25,
   "id": "d6cbf0d6-c611-4e17-a377-7b8ea2318418",
   "metadata": {},
   "outputs": [
    {
     "data": {
      "text/plain": [
       "15"
      ]
     },
     "execution_count": 25,
     "metadata": {},
     "output_type": "execute_result"
    }
   ],
   "source": [
    "a = 1+2+3\\\n",
    "+4\\\n",
    "+5\n",
    "a"
   ]
  },
  {
   "cell_type": "code",
   "execution_count": null,
   "id": "02f719e6-92a8-4055-b289-46214b7b69fd",
   "metadata": {},
   "outputs": [],
   "source": []
  },
  {
   "cell_type": "markdown",
   "id": "dc594eb5-77db-443e-9bd4-7bfab1c8644b",
   "metadata": {},
   "source": [
    "## Multiple Statements on a single line"
   ]
  },
  {
   "cell_type": "code",
   "execution_count": 36,
   "id": "96d7cee6-c073-49e5-8eb1-e0ed73fcb6be",
   "metadata": {},
   "outputs": [],
   "source": [
    "a = 1\n",
    "b = 2"
   ]
  },
  {
   "cell_type": "code",
   "execution_count": 37,
   "id": "8acd90e4-5f5d-44ee-8217-61179f31fa3b",
   "metadata": {},
   "outputs": [
    {
     "data": {
      "text/plain": [
       "1"
      ]
     },
     "execution_count": 37,
     "metadata": {},
     "output_type": "execute_result"
    }
   ],
   "source": [
    "a"
   ]
  },
  {
   "cell_type": "code",
   "execution_count": 38,
   "id": "5e23cc7a-8e23-4f4c-8737-d98530ed9c53",
   "metadata": {},
   "outputs": [
    {
     "data": {
      "text/plain": [
       "2"
      ]
     },
     "execution_count": 38,
     "metadata": {},
     "output_type": "execute_result"
    }
   ],
   "source": [
    "b"
   ]
  },
  {
   "cell_type": "code",
   "execution_count": 41,
   "id": "9b5d040c-d4d8-467d-afef-68bb19f009d7",
   "metadata": {},
   "outputs": [],
   "source": [
    "a=1; b=2; c=2"
   ]
  },
  {
   "cell_type": "markdown",
   "id": "d704bad7-717d-4cc1-8d31-04b89326d152",
   "metadata": {},
   "source": [
    "## Variable literal & Keywords"
   ]
  },
  {
   "cell_type": "code",
   "execution_count": 29,
   "id": "0030dcc2-4157-4669-a002-d90a546ae71b",
   "metadata": {},
   "outputs": [],
   "source": [
    "name = 234"
   ]
  },
  {
   "cell_type": "code",
   "execution_count": 30,
   "id": "39398707-5cae-4ba1-b803-4acb74328f79",
   "metadata": {},
   "outputs": [
    {
     "data": {
      "text/plain": [
       "234"
      ]
     },
     "execution_count": 30,
     "metadata": {},
     "output_type": "execute_result"
    }
   ],
   "source": [
    "name"
   ]
  },
  {
   "cell_type": "code",
   "execution_count": null,
   "id": "8638bc80-9c2d-46c6-9074-38083ccff56b",
   "metadata": {},
   "outputs": [],
   "source": []
  },
  {
   "cell_type": "markdown",
   "id": "7dd052c8-2ded-4ffb-8294-696703182f0f",
   "metadata": {},
   "source": [
    "# Python Keywords - hard and soft keywords"
   ]
  },
  {
   "cell_type": "markdown",
   "id": "a5d065ac-4338-4065-8591-ca589167f7de",
   "metadata": {},
   "source": [
    "False      await      else       import     pass\n",
    "None       break      except     in         raise\n",
    "True       class      finally    is         return\n",
    "and        continue   for        lambda     try\n",
    "as         def        from       nonlocal   while\n",
    "assert     del        global     not        with\n",
    "async      elif       if         or         yield\n"
   ]
  },
  {
   "cell_type": "code",
   "execution_count": 33,
   "id": "69e64549-facd-4e2d-9996-d2f71697baf4",
   "metadata": {},
   "outputs": [
    {
     "ename": "SyntaxError",
     "evalue": "invalid syntax (986681254.py, line 1)",
     "output_type": "error",
     "traceback": [
      "\u001b[1;36m  Cell \u001b[1;32mIn[33], line 1\u001b[1;36m\u001b[0m\n\u001b[1;33m    global = 'Keerthi'\u001b[0m\n\u001b[1;37m           ^\u001b[0m\n\u001b[1;31mSyntaxError\u001b[0m\u001b[1;31m:\u001b[0m invalid syntax\n"
     ]
    }
   ],
   "source": [
    "global = 'Keerthi'"
   ]
  },
  {
   "cell_type": "code",
   "execution_count": 34,
   "id": "5286abd1-2c48-4565-a732-ee1679ac8da7",
   "metadata": {},
   "outputs": [],
   "source": [
    "def check_status(code):\n",
    "    match code:\n",
    "        case 200:\n",
    "            return \"OK\"\n",
    "        case 404:\n",
    "            return \"Not Found\"\n",
    "        case _:\n",
    "            return \"Unknown\""
   ]
  },
  {
   "cell_type": "code",
   "execution_count": 35,
   "id": "25f761e0-a48b-43db-9e16-1c0f4e921d74",
   "metadata": {},
   "outputs": [
    {
     "name": "stdout",
     "output_type": "stream",
     "text": [
      "something 10\n"
     ]
    }
   ],
   "source": [
    "match = \"something\"\n",
    "case = 10\n",
    "print(match, case) "
   ]
  },
  {
   "cell_type": "markdown",
   "id": "c2f70a8e-22ad-4141-aaef-139f4e3fb32c",
   "metadata": {},
   "source": [
    "# Naming Rules"
   ]
  },
  {
   "cell_type": "markdown",
   "id": "72400f35-86a5-4b7d-8ff3-74762de58e7c",
   "metadata": {},
   "source": [
    "- variable name can only start with '_' or 'str'\r",
    "- \n",
    "should be descriptiv\n",
    "- \r\n",
    "case sensitive"
   ]
  },
  {
   "cell_type": "code",
   "execution_count": 50,
   "id": "8d95293e-ca35-463d-bbb6-f589262aa716",
   "metadata": {},
   "outputs": [],
   "source": [
    "age_meningless = True"
   ]
  },
  {
   "cell_type": "code",
   "execution_count": 43,
   "id": "359780c2-83be-446e-a116-0fa62cb280ca",
   "metadata": {},
   "outputs": [],
   "source": [
    "eighteen_plus = True"
   ]
  },
  {
   "cell_type": "code",
   "execution_count": 49,
   "id": "2d19cba4-f917-428c-b102-7a65ab064c8b",
   "metadata": {},
   "outputs": [
    {
     "ename": "SyntaxError",
     "evalue": "invalid syntax (581702222.py, line 1)",
     "output_type": "error",
     "traceback": [
      "\u001b[1;36m  Cell \u001b[1;32mIn[49], line 1\u001b[1;36m\u001b[0m\n\u001b[1;33m    &eighteen = 123\u001b[0m\n\u001b[1;37m    ^\u001b[0m\n\u001b[1;31mSyntaxError\u001b[0m\u001b[1;31m:\u001b[0m invalid syntax\n"
     ]
    }
   ],
   "source": [
    "&eighteen = 123"
   ]
  },
  {
   "cell_type": "code",
   "execution_count": 44,
   "id": "0cd6c744-936a-48ef-89bc-deec28b980e7",
   "metadata": {},
   "outputs": [
    {
     "ename": "SyntaxError",
     "evalue": "invalid decimal literal (837464468.py, line 1)",
     "output_type": "error",
     "traceback": [
      "\u001b[1;36m  Cell \u001b[1;32mIn[44], line 1\u001b[1;36m\u001b[0m\n\u001b[1;33m    1eighteen = True\u001b[0m\n\u001b[1;37m    ^\u001b[0m\n\u001b[1;31mSyntaxError\u001b[0m\u001b[1;31m:\u001b[0m invalid decimal literal\n"
     ]
    }
   ],
   "source": [
    "1eighteen = True"
   ]
  },
  {
   "cell_type": "code",
   "execution_count": 48,
   "id": "6d2a934a-baec-49c5-b39b-1ec9d9dc4686",
   "metadata": {},
   "outputs": [],
   "source": [
    "_18 = 12"
   ]
  },
  {
   "cell_type": "markdown",
   "id": "a3fc994b-cb29-45f7-bd26-7c896857de16",
   "metadata": {},
   "source": [
    "# Dynamic typing"
   ]
  },
  {
   "cell_type": "code",
   "execution_count": 56,
   "id": "729ceb84-0721-4d1d-b542-72bd29c60b85",
   "metadata": {},
   "outputs": [],
   "source": [
    "a = 123"
   ]
  },
  {
   "cell_type": "code",
   "execution_count": 57,
   "id": "8fd08ffa-202d-43ae-a88c-4b9da72ca3a4",
   "metadata": {},
   "outputs": [
    {
     "data": {
      "text/plain": [
       "123"
      ]
     },
     "execution_count": 57,
     "metadata": {},
     "output_type": "execute_result"
    }
   ],
   "source": [
    "a"
   ]
  },
  {
   "cell_type": "code",
   "execution_count": 58,
   "id": "7b560068-c881-4725-a102-d54ff60f4460",
   "metadata": {},
   "outputs": [
    {
     "data": {
      "text/plain": [
       "int"
      ]
     },
     "execution_count": 58,
     "metadata": {},
     "output_type": "execute_result"
    }
   ],
   "source": [
    "type(a)"
   ]
  },
  {
   "cell_type": "code",
   "execution_count": 59,
   "id": "a3d98f94-07a4-4918-ab65-e24787e07367",
   "metadata": {},
   "outputs": [],
   "source": [
    "a = 'Keerthi'"
   ]
  },
  {
   "cell_type": "code",
   "execution_count": 60,
   "id": "91a87959-e509-4491-8e79-b18d48d6ddd4",
   "metadata": {},
   "outputs": [
    {
     "data": {
      "text/plain": [
       "'Keerthi'"
      ]
     },
     "execution_count": 60,
     "metadata": {},
     "output_type": "execute_result"
    }
   ],
   "source": [
    "a"
   ]
  },
  {
   "cell_type": "code",
   "execution_count": 61,
   "id": "f9540d06-d675-4c68-b341-b0dddc514b8e",
   "metadata": {},
   "outputs": [
    {
     "data": {
      "text/plain": [
       "str"
      ]
     },
     "execution_count": 61,
     "metadata": {},
     "output_type": "execute_result"
    }
   ],
   "source": [
    "type(a)"
   ]
  },
  {
   "cell_type": "code",
   "execution_count": 62,
   "id": "3cfb7a96-dbd3-4c6a-a85d-e2dcdb3a4a1d",
   "metadata": {},
   "outputs": [],
   "source": [
    "a = int(123)"
   ]
  },
  {
   "cell_type": "code",
   "execution_count": 63,
   "id": "4de85ed0-28ff-4ed6-933e-19eb0be4e860",
   "metadata": {},
   "outputs": [
    {
     "data": {
      "text/plain": [
       "123"
      ]
     },
     "execution_count": 63,
     "metadata": {},
     "output_type": "execute_result"
    }
   ],
   "source": [
    "a"
   ]
  },
  {
   "cell_type": "code",
   "execution_count": null,
   "id": "7a76e2f7-3fea-497d-ab5b-b53e0cc6fe5e",
   "metadata": {},
   "outputs": [],
   "source": [
    "Int"
   ]
  },
  {
   "cell_type": "code",
   "execution_count": 64,
   "id": "a03c523a-193a-4f89-972c-4f95223cecc1",
   "metadata": {},
   "outputs": [
    {
     "ename": "SyntaxError",
     "evalue": "cannot assign to expression here. Maybe you meant '==' instead of '='? (671572959.py, line 1)",
     "output_type": "error",
     "traceback": [
      "\u001b[1;36m  Cell \u001b[1;32mIn[64], line 1\u001b[1;36m\u001b[0m\n\u001b[1;33m    my-var = 123\u001b[0m\n\u001b[1;37m    ^\u001b[0m\n\u001b[1;31mSyntaxError\u001b[0m\u001b[1;31m:\u001b[0m cannot assign to expression here. Maybe you meant '==' instead of '='?\n"
     ]
    }
   ],
   "source": [
    "my-var = 123"
   ]
  },
  {
   "cell_type": "code",
   "execution_count": null,
   "id": "9b3b7909-733c-4571-813c-c950f84ed8be",
   "metadata": {},
   "outputs": [],
   "source": []
  }
 ],
 "metadata": {
  "kernelspec": {
   "display_name": "Python 3 (ipykernel)",
   "language": "python",
   "name": "python3"
  },
  "language_info": {
   "codemirror_mode": {
    "name": "ipython",
    "version": 3
   },
   "file_extension": ".py",
   "mimetype": "text/x-python",
   "name": "python",
   "nbconvert_exporter": "python",
   "pygments_lexer": "ipython3",
   "version": "3.10.14"
  }
 },
 "nbformat": 4,
 "nbformat_minor": 5
}
