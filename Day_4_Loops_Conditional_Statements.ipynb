{
 "cells": [
  {
   "cell_type": "markdown",
   "id": "f5dba714-8c82-46c0-88d9-d8a486511144",
   "metadata": {},
   "source": [
    "## Loops"
   ]
  },
  {
   "cell_type": "code",
   "execution_count": 11,
   "id": "02697cbc-c403-427b-ae97-8f11a5e741c6",
   "metadata": {},
   "outputs": [],
   "source": [
    "def coconut_chutney():\n",
    "    print(\"coconut + groundnut + chilli + salt\")"
   ]
  },
  {
   "cell_type": "code",
   "execution_count": 13,
   "id": "e3944ead-54c2-4084-98cf-12db1d344ffa",
   "metadata": {},
   "outputs": [],
   "source": [
    "def tomato_chutney():\n",
    "    print(\"tomato + onion + chill + salt\")"
   ]
  },
  {
   "cell_type": "code",
   "execution_count": 17,
   "id": "8def8ce9-9eb4-466b-8fd2-58f852ee351e",
   "metadata": {},
   "outputs": [
    {
     "name": "stdout",
     "output_type": "stream",
     "text": [
      "Day 0\n",
      "coconut + groundnut + chilli + salt\n",
      "Day 1\n",
      "tomato + onion + chill + salt\n",
      "Day 2\n",
      "tomato + onion + chill + salt\n",
      "Day 3\n",
      "coconut + groundnut + chilli + salt\n",
      "Day 4\n",
      "coconut + groundnut + chilli + salt\n",
      "Day 5\n",
      "tomato + onion + chill + salt\n",
      "Day 6\n",
      "tomato + onion + chill + salt\n"
     ]
    }
   ],
   "source": [
    "print(\"Day 0\")\n",
    "coconut_chutney()\n",
    "print(\"Day 1\")\n",
    "tomato_chutney()\n",
    "print(\"Day 2\")\n",
    "tomato_chutney()\n",
    "print(\"Day 3\")\n",
    "coconut_chutney()\n",
    "print(\"Day 4\")\n",
    "coconut_chutney()\n",
    "print(\"Day 5\")\n",
    "tomato_chutney()\n",
    "print(\"Day 6\")\n",
    "tomato_chutney()"
   ]
  },
  {
   "cell_type": "code",
   "execution_count": 19,
   "id": "4aa254d4-5dd0-4e34-b583-c179d97773e0",
   "metadata": {},
   "outputs": [
    {
     "data": {
      "text/plain": [
       "range(0, 5)"
      ]
     },
     "execution_count": 19,
     "metadata": {},
     "output_type": "execute_result"
    }
   ],
   "source": [
    "range(5)"
   ]
  },
  {
   "cell_type": "code",
   "execution_count": 27,
   "id": "1cf15aea-9623-4371-bfaa-0da4a8815e4e",
   "metadata": {},
   "outputs": [],
   "source": [
    "day_list = [0,1,2,3,4,5,6]"
   ]
  },
  {
   "cell_type": "code",
   "execution_count": 31,
   "id": "70462b3c-8582-4c78-904a-f30b3c683147",
   "metadata": {},
   "outputs": [
    {
     "name": "stdout",
     "output_type": "stream",
     "text": [
      "Day 0 Receipe\n",
      "coconut + groundnut + chilli + salt\n",
      "Day 1 Receipe\n",
      "coconut + groundnut + chilli + salt\n",
      "Day 2 Receipe\n",
      "coconut + groundnut + chilli + salt\n",
      "Day 3 Receipe\n",
      "coconut + groundnut + chilli + salt\n",
      "Day 4 Receipe\n",
      "coconut + groundnut + chilli + salt\n",
      "Day 5 Receipe\n",
      "coconut + groundnut + chilli + salt\n",
      "Day 6 Receipe\n",
      "coconut + groundnut + chilli + salt\n"
     ]
    }
   ],
   "source": [
    "for i in day_list:\n",
    "    print(\"Day\", i, \"Receipe\")\n",
    "    coconut_chutney()"
   ]
  },
  {
   "cell_type": "code",
   "execution_count": 33,
   "id": "ea0bbd45-db61-49d4-a295-d97c69e241d3",
   "metadata": {},
   "outputs": [],
   "source": [
    "day_counter = 0"
   ]
  },
  {
   "cell_type": "code",
   "execution_count": 35,
   "id": "48c449c4-beac-4932-a391-919ac39c124c",
   "metadata": {},
   "outputs": [
    {
     "name": "stdout",
     "output_type": "stream",
     "text": [
      "Day 0 Receipe\n",
      "coconut + groundnut + chilli + salt\n",
      "Day 1 Receipe\n",
      "coconut + groundnut + chilli + salt\n",
      "Day 2 Receipe\n",
      "coconut + groundnut + chilli + salt\n",
      "Day 3 Receipe\n",
      "coconut + groundnut + chilli + salt\n",
      "Day 4 Receipe\n",
      "coconut + groundnut + chilli + salt\n",
      "Day 5 Receipe\n",
      "coconut + groundnut + chilli + salt\n",
      "Day 6 Receipe\n",
      "coconut + groundnut + chilli + salt\n"
     ]
    }
   ],
   "source": [
    "while day_counter<7:\n",
    "    print(\"Day\", day_counter, \"Receipe\")\n",
    "    coconut_chutney()\n",
    "    day_counter = day_counter+1"
   ]
  },
  {
   "cell_type": "code",
   "execution_count": 39,
   "id": "4e471163-5cd2-4bad-8421-16394dbdf0bd",
   "metadata": {},
   "outputs": [],
   "source": [
    "def add_numbers(a,b):\n",
    "    print(a+b)"
   ]
  },
  {
   "cell_type": "code",
   "execution_count": 41,
   "id": "3bc54bdb-c7a7-44f2-84e3-092f012c4db4",
   "metadata": {},
   "outputs": [
    {
     "name": "stdout",
     "output_type": "stream",
     "text": [
      "3\n"
     ]
    }
   ],
   "source": [
    "add_numbers(1,2)"
   ]
  },
  {
   "cell_type": "code",
   "execution_count": 49,
   "id": "b811a9a9-30ed-4ab0-a6ff-c7c4ad6c8055",
   "metadata": {},
   "outputs": [
    {
     "name": "stdin",
     "output_type": "stream",
     "text": [
      " 13\n"
     ]
    }
   ],
   "source": [
    "var = int(input())"
   ]
  },
  {
   "cell_type": "code",
   "execution_count": 55,
   "id": "2aa0532d-0de7-40fc-a9be-40e78905cc45",
   "metadata": {},
   "outputs": [
    {
     "data": {
      "text/plain": [
       "int"
      ]
     },
     "execution_count": 55,
     "metadata": {},
     "output_type": "execute_result"
    }
   ],
   "source": [
    "type(var)"
   ]
  },
  {
   "cell_type": "code",
   "execution_count": 129,
   "id": "d5ec9edf-f1f7-4a3b-afea-d5fa8aaa8b9a",
   "metadata": {},
   "outputs": [
    {
     "name": "stdout",
     "output_type": "stream",
     "text": [
      "im in\n"
     ]
    },
    {
     "name": "stdin",
     "output_type": "stream",
     "text": [
      " 1\n",
      " 2\n"
     ]
    },
    {
     "name": "stdout",
     "output_type": "stream",
     "text": [
      "3\n",
      "im in\n"
     ]
    },
    {
     "name": "stdin",
     "output_type": "stream",
     "text": [
      " 1\n",
      " 2\n"
     ]
    },
    {
     "name": "stdout",
     "output_type": "stream",
     "text": [
      "3\n",
      "im in\n"
     ]
    },
    {
     "name": "stdin",
     "output_type": "stream",
     "text": [
      " 11\n",
      " 123\n"
     ]
    },
    {
     "name": "stdout",
     "output_type": "stream",
     "text": [
      "134\n"
     ]
    }
   ],
   "source": [
    "def add_numbers(a,b):\n",
    "    # print(a+b) \n",
    "    return a + b  \n",
    "val = 0\n",
    "while val <= 15:\n",
    "    # print(\"Yes, the output is here\")\n",
    "    print(\"im in\")\n",
    "    input1 = int(input())\n",
    "    input2 = int(input())\n",
    "    val = add_numbers(input1, input2)\n",
    "    print(val)"
   ]
  },
  {
   "cell_type": "code",
   "execution_count": 125,
   "id": "f8580266-b3eb-4610-9adb-c0fa6602f5d9",
   "metadata": {},
   "outputs": [
    {
     "name": "stdout",
     "output_type": "stream",
     "text": [
      "I'm in\n"
     ]
    },
    {
     "name": "stdin",
     "output_type": "stream",
     "text": [
      "Enter first number:  111\n",
      "Enter second number:  111\n"
     ]
    },
    {
     "name": "stdout",
     "output_type": "stream",
     "text": [
      "Updated val: 222\n"
     ]
    }
   ],
   "source": [
    "def add_numbers(a, b):\n",
    "    return a + b  \n",
    "\n",
    "val = 0\n",
    "while val <= 15:\n",
    "    print(\"I'm in\")\n",
    "    input1 = int(input(\"Enter first number: \")) \n",
    "    input2 = int(input(\"Enter second number: \"))\n",
    "    \n",
    "    val = add_numbers(input1, input2) \n",
    "    print(\"Updated val:\", val) "
   ]
  },
  {
   "cell_type": "markdown",
   "id": "f84bfe2b-c9de-47dd-97cc-0d295eb3295f",
   "metadata": {},
   "source": [
    "# conditional statements"
   ]
  },
  {
   "cell_type": "markdown",
   "id": "36057f63-9d1a-427b-89ca-a90ed2066f6e",
   "metadata": {},
   "source": [
    "- if\n",
    "- else\n",
    "- elif\n",
    "- continue\n",
    "- break\n",
    "- pass"
   ]
  },
  {
   "cell_type": "code",
   "execution_count": 95,
   "id": "44187922-77c4-40b0-a764-174cd97f18ae",
   "metadata": {},
   "outputs": [],
   "source": [
    "coconut_aval = 1"
   ]
  },
  {
   "cell_type": "code",
   "execution_count": 69,
   "id": "fc1675e0-9dbf-42db-99ac-0c8c3dfb6b34",
   "metadata": {},
   "outputs": [
    {
     "name": "stdout",
     "output_type": "stream",
     "text": [
      "order something\n",
      "order something\n",
      "order something\n",
      "order something\n",
      "order something\n",
      "order something\n",
      "order something\n"
     ]
    }
   ],
   "source": [
    "for i in range(7):\n",
    "    if coconut_aval == 1:\n",
    "        coconut_chutney()\n",
    "    elif coconut_aval == 0:\n",
    "        tomato_chutney()\n",
    "    else:\n",
    "        print(\"order something\")"
   ]
  },
  {
   "cell_type": "code",
   "execution_count": 67,
   "id": "b176cffd-f7db-4f01-b7c2-c33b1be50cbc",
   "metadata": {},
   "outputs": [
    {
     "name": "stdin",
     "output_type": "stream",
     "text": [
      " 12\n"
     ]
    }
   ],
   "source": [
    "coconut_aval = int(input())"
   ]
  },
  {
   "cell_type": "code",
   "execution_count": 87,
   "id": "ef8abbee-bf35-47d2-8386-5e726d088f0d",
   "metadata": {},
   "outputs": [],
   "source": [
    "coconut_aval_list = [1,0,0,1,1,0,100]"
   ]
  },
  {
   "cell_type": "code",
   "execution_count": 89,
   "id": "65535d18-ec42-42ec-af61-1da05df95c07",
   "metadata": {},
   "outputs": [
    {
     "data": {
      "text/plain": [
       "100"
      ]
     },
     "execution_count": 89,
     "metadata": {},
     "output_type": "execute_result"
    }
   ],
   "source": [
    "coconut_aval_list[-1]"
   ]
  },
  {
   "cell_type": "code",
   "execution_count": 81,
   "id": "09195ccf-f66f-4b79-928b-b4509cb37713",
   "metadata": {},
   "outputs": [
    {
     "name": "stdout",
     "output_type": "stream",
     "text": [
      "0\n",
      "1\n",
      "2\n",
      "3\n",
      "4\n",
      "5\n",
      "6\n"
     ]
    }
   ],
   "source": [
    "for i in range(7):\n",
    "    print(i)"
   ]
  },
  {
   "cell_type": "code",
   "execution_count": 115,
   "id": "4686cbdd-9fc6-48be-9d3f-f5bb65f25f00",
   "metadata": {},
   "outputs": [
    {
     "name": "stdout",
     "output_type": "stream",
     "text": [
      "coconut + groundnut + chilli + salt\n",
      "tomato + onion + chill + salt\n",
      "tomato + onion + chill + salt\n",
      "coconut + groundnut + chilli + salt\n",
      "coconut + groundnut + chilli + salt\n",
      "tomato + onion + chill + salt\n"
     ]
    }
   ],
   "source": [
    "for i in range(7):\n",
    "    if coconut_aval_list[i] == 1:\n",
    "        coconut_chutney()\n",
    "    elif coconut_aval_list[i] == 0:\n",
    "        tomato_chutney()\n",
    "    # else:\n",
    "    #     print(\"order something\")"
   ]
  },
  {
   "cell_type": "markdown",
   "id": "c9365fcd-d7a8-4a27-908c-2f44bc375ec7",
   "metadata": {},
   "source": [
    "# Ternary operation or conditional expressions"
   ]
  },
  {
   "cell_type": "code",
   "execution_count": 117,
   "id": "1114cc0f-b364-47c1-8a2f-4b3af1350a2c",
   "metadata": {},
   "outputs": [
    {
     "ename": "SyntaxError",
     "evalue": "expected 'else' after 'if' expression (3373345098.py, line 1)",
     "output_type": "error",
     "traceback": [
      "\u001b[1;36m  Cell \u001b[1;32mIn[117], line 1\u001b[1;36m\u001b[0m\n\u001b[1;33m    coconut_chutney() if coconut_aval==1 elif coconut_aval!=1 tomato_chutney()\u001b[0m\n\u001b[1;37m    ^\u001b[0m\n\u001b[1;31mSyntaxError\u001b[0m\u001b[1;31m:\u001b[0m expected 'else' after 'if' expression\n"
     ]
    }
   ],
   "source": [
    "coconut_chutney() if coconut_aval==1 elif coconut_aval!=1 tomato_chutney()"
   ]
  },
  {
   "cell_type": "code",
   "execution_count": 101,
   "id": "819624d9-7321-44c8-869a-dc5711b48636",
   "metadata": {},
   "outputs": [
    {
     "data": {
      "text/plain": [
       "int"
      ]
     },
     "execution_count": 101,
     "metadata": {},
     "output_type": "execute_result"
    }
   ],
   "source": [
    "type(coconut_aval) "
   ]
  },
  {
   "cell_type": "code",
   "execution_count": null,
   "id": "b4669eb7-0985-4dae-8335-46eedee61e10",
   "metadata": {},
   "outputs": [],
   "source": []
  },
  {
   "cell_type": "markdown",
   "id": "432dcc1c-ed58-4040-9990-bcb5c8a78708",
   "metadata": {},
   "source": [
    "# Conditional statement inside loops"
   ]
  },
  {
   "cell_type": "markdown",
   "id": "38c19a0e-99d0-4fe4-b66c-22d9e1d402c6",
   "metadata": {},
   "source": [
    "- break : to break a loop\n",
    "- continue : to stop what we are doing immediately yet continue\n",
    "- pass: do nothing"
   ]
  },
  {
   "cell_type": "code",
   "execution_count": null,
   "id": "1ca5576c-c10a-4c59-ab04-d8263fb70fb4",
   "metadata": {},
   "outputs": [],
   "source": []
  }
 ],
 "metadata": {
  "kernelspec": {
   "display_name": "Python 3 (ipykernel)",
   "language": "python",
   "name": "python3"
  },
  "language_info": {
   "codemirror_mode": {
    "name": "ipython",
    "version": 3
   },
   "file_extension": ".py",
   "mimetype": "text/x-python",
   "name": "python",
   "nbconvert_exporter": "python",
   "pygments_lexer": "ipython3",
   "version": "3.12.4"
  }
 },
 "nbformat": 4,
 "nbformat_minor": 5
}
