{
 "cells": [
  {
   "cell_type": "markdown",
   "id": "f5dba714-8c82-46c0-88d9-d8a486511144",
   "metadata": {},
   "source": [
    "## Loops"
   ]
  },
  {
   "cell_type": "code",
   "execution_count": 1,
   "id": "02697cbc-c403-427b-ae97-8f11a5e741c6",
   "metadata": {},
   "outputs": [],
   "source": [
    "def coconut_chutney():\n",
    "    print(\"coconut + groundnut + chilli + salt\")"
   ]
  },
  {
   "cell_type": "code",
   "execution_count": 3,
   "id": "e3944ead-54c2-4084-98cf-12db1d344ffa",
   "metadata": {},
   "outputs": [],
   "source": [
    "def tomato_chutney():\n",
    "    print(\"tomato + onion + chill + salt\")"
   ]
  },
  {
   "cell_type": "code",
   "execution_count": 5,
   "id": "8def8ce9-9eb4-466b-8fd2-58f852ee351e",
   "metadata": {},
   "outputs": [
    {
     "name": "stdout",
     "output_type": "stream",
     "text": [
      "Day 0\n",
      "coconut + groundnut + chilli + salt\n",
      "Day 1\n",
      "tomato + onion + chill + salt\n",
      "Day 2\n",
      "tomato + onion + chill + salt\n",
      "Day 3\n",
      "coconut + groundnut + chilli + salt\n",
      "Day 4\n",
      "coconut + groundnut + chilli + salt\n",
      "Day 5\n",
      "tomato + onion + chill + salt\n",
      "Day 6\n",
      "tomato + onion + chill + salt\n"
     ]
    }
   ],
   "source": [
    "print(\"Day 0\")\n",
    "coconut_chutney()\n",
    "print(\"Day 1\")\n",
    "tomato_chutney()\n",
    "print(\"Day 2\")\n",
    "tomato_chutney()\n",
    "print(\"Day 3\")\n",
    "coconut_chutney()\n",
    "print(\"Day 4\")\n",
    "coconut_chutney()\n",
    "print(\"Day 5\")\n",
    "tomato_chutney()\n",
    "print(\"Day 6\")\n",
    "tomato_chutney()"
   ]
  },
  {
   "cell_type": "code",
   "execution_count": 7,
   "id": "4aa254d4-5dd0-4e34-b583-c179d97773e0",
   "metadata": {},
   "outputs": [
    {
     "data": {
      "text/plain": [
       "range(0, 5)"
      ]
     },
     "execution_count": 7,
     "metadata": {},
     "output_type": "execute_result"
    }
   ],
   "source": [
    "range(5)"
   ]
  },
  {
   "cell_type": "code",
   "execution_count": 9,
   "id": "1cf15aea-9623-4371-bfaa-0da4a8815e4e",
   "metadata": {},
   "outputs": [],
   "source": [
    "day_list = [0,1,2,3,4,5,6]"
   ]
  },
  {
   "cell_type": "code",
   "execution_count": 11,
   "id": "70462b3c-8582-4c78-904a-f30b3c683147",
   "metadata": {},
   "outputs": [
    {
     "name": "stdout",
     "output_type": "stream",
     "text": [
      "Day 0 Receipe\n",
      "coconut + groundnut + chilli + salt\n",
      "Day 1 Receipe\n",
      "coconut + groundnut + chilli + salt\n",
      "Day 2 Receipe\n",
      "coconut + groundnut + chilli + salt\n",
      "Day 3 Receipe\n",
      "coconut + groundnut + chilli + salt\n",
      "Day 4 Receipe\n",
      "coconut + groundnut + chilli + salt\n",
      "Day 5 Receipe\n",
      "coconut + groundnut + chilli + salt\n",
      "Day 6 Receipe\n",
      "coconut + groundnut + chilli + salt\n"
     ]
    }
   ],
   "source": [
    "for i in day_list:\n",
    "    print(\"Day\", i, \"Receipe\")\n",
    "    coconut_chutney()"
   ]
  },
  {
   "cell_type": "code",
   "execution_count": 13,
   "id": "ea0bbd45-db61-49d4-a295-d97c69e241d3",
   "metadata": {},
   "outputs": [],
   "source": [
    "day_counter = 0"
   ]
  },
  {
   "cell_type": "code",
   "execution_count": 15,
   "id": "48c449c4-beac-4932-a391-919ac39c124c",
   "metadata": {},
   "outputs": [
    {
     "name": "stdout",
     "output_type": "stream",
     "text": [
      "Day 0 Receipe\n",
      "coconut + groundnut + chilli + salt\n",
      "Day 1 Receipe\n",
      "coconut + groundnut + chilli + salt\n",
      "Day 2 Receipe\n",
      "coconut + groundnut + chilli + salt\n",
      "Day 3 Receipe\n",
      "coconut + groundnut + chilli + salt\n",
      "Day 4 Receipe\n",
      "coconut + groundnut + chilli + salt\n",
      "Day 5 Receipe\n",
      "coconut + groundnut + chilli + salt\n",
      "Day 6 Receipe\n",
      "coconut + groundnut + chilli + salt\n"
     ]
    }
   ],
   "source": [
    "while day_counter<7:\n",
    "    print(\"Day\", day_counter, \"Receipe\")\n",
    "    coconut_chutney()\n",
    "    day_counter = day_counter+1"
   ]
  },
  {
   "cell_type": "code",
   "execution_count": 17,
   "id": "4e471163-5cd2-4bad-8421-16394dbdf0bd",
   "metadata": {},
   "outputs": [],
   "source": [
    "def add_numbers(a,b):\n",
    "    print(a+b)"
   ]
  },
  {
   "cell_type": "code",
   "execution_count": 19,
   "id": "3bc54bdb-c7a7-44f2-84e3-092f012c4db4",
   "metadata": {},
   "outputs": [
    {
     "name": "stdout",
     "output_type": "stream",
     "text": [
      "3\n"
     ]
    }
   ],
   "source": [
    "add_numbers(1,2)"
   ]
  },
  {
   "cell_type": "code",
   "execution_count": 21,
   "id": "b811a9a9-30ed-4ab0-a6ff-c7c4ad6c8055",
   "metadata": {},
   "outputs": [
    {
     "name": "stdin",
     "output_type": "stream",
     "text": [
      " 1\n"
     ]
    }
   ],
   "source": [
    "var = int(input())"
   ]
  },
  {
   "cell_type": "code",
   "execution_count": 23,
   "id": "2aa0532d-0de7-40fc-a9be-40e78905cc45",
   "metadata": {},
   "outputs": [
    {
     "data": {
      "text/plain": [
       "int"
      ]
     },
     "execution_count": 23,
     "metadata": {},
     "output_type": "execute_result"
    }
   ],
   "source": [
    "type(var)"
   ]
  },
  {
   "cell_type": "code",
   "execution_count": 129,
   "id": "d5ec9edf-f1f7-4a3b-afea-d5fa8aaa8b9a",
   "metadata": {},
   "outputs": [
    {
     "name": "stdout",
     "output_type": "stream",
     "text": [
      "im in\n"
     ]
    },
    {
     "name": "stdin",
     "output_type": "stream",
     "text": [
      " 1\n",
      " 2\n"
     ]
    },
    {
     "name": "stdout",
     "output_type": "stream",
     "text": [
      "3\n",
      "im in\n"
     ]
    },
    {
     "name": "stdin",
     "output_type": "stream",
     "text": [
      " 1\n",
      " 2\n"
     ]
    },
    {
     "name": "stdout",
     "output_type": "stream",
     "text": [
      "3\n",
      "im in\n"
     ]
    },
    {
     "name": "stdin",
     "output_type": "stream",
     "text": [
      " 11\n",
      " 123\n"
     ]
    },
    {
     "name": "stdout",
     "output_type": "stream",
     "text": [
      "134\n"
     ]
    }
   ],
   "source": [
    "def add_numbers(a,b):\n",
    "    # print(a+b) \n",
    "    return a + b  \n",
    "val = 0\n",
    "while val <= 15:\n",
    "    # print(\"Yes, the output is here\")\n",
    "    print(\"im in\")\n",
    "    input1 = int(input())\n",
    "    input2 = int(input())\n",
    "    val = add_numbers(input1, input2)\n",
    "    print(val)"
   ]
  },
  {
   "cell_type": "code",
   "execution_count": 25,
   "id": "f8580266-b3eb-4610-9adb-c0fa6602f5d9",
   "metadata": {},
   "outputs": [
    {
     "name": "stdout",
     "output_type": "stream",
     "text": [
      "I'm in\n"
     ]
    },
    {
     "name": "stdin",
     "output_type": "stream",
     "text": [
      "Enter first number:  11\n",
      "Enter second number:  12\n"
     ]
    },
    {
     "name": "stdout",
     "output_type": "stream",
     "text": [
      "Updated val: 23\n"
     ]
    }
   ],
   "source": [
    "def add_numbers(a, b):\n",
    "    return a + b  \n",
    "\n",
    "val = 0\n",
    "while val <= 15:\n",
    "    print(\"I'm in\")\n",
    "    input1 = int(input(\"Enter first number: \")) \n",
    "    input2 = int(input(\"Enter second number: \"))\n",
    "    \n",
    "    val = add_numbers(input1, input2) \n",
    "    print(\"Updated val:\", val) "
   ]
  },
  {
   "cell_type": "markdown",
   "id": "f84bfe2b-c9de-47dd-97cc-0d295eb3295f",
   "metadata": {},
   "source": [
    "# conditional statements"
   ]
  },
  {
   "cell_type": "markdown",
   "id": "36057f63-9d1a-427b-89ca-a90ed2066f6e",
   "metadata": {},
   "source": [
    "- if\n",
    "- else\n",
    "- elif\n",
    "- continue\n",
    "- break\n",
    "- pass"
   ]
  },
  {
   "cell_type": "code",
   "execution_count": 27,
   "id": "44187922-77c4-40b0-a764-174cd97f18ae",
   "metadata": {},
   "outputs": [],
   "source": [
    "coconut_aval = 1"
   ]
  },
  {
   "cell_type": "code",
   "execution_count": 29,
   "id": "fc1675e0-9dbf-42db-99ac-0c8c3dfb6b34",
   "metadata": {},
   "outputs": [
    {
     "name": "stdout",
     "output_type": "stream",
     "text": [
      "coconut + groundnut + chilli + salt\n",
      "coconut + groundnut + chilli + salt\n",
      "coconut + groundnut + chilli + salt\n",
      "coconut + groundnut + chilli + salt\n",
      "coconut + groundnut + chilli + salt\n",
      "coconut + groundnut + chilli + salt\n",
      "coconut + groundnut + chilli + salt\n"
     ]
    }
   ],
   "source": [
    "for i in range(7):\n",
    "    if coconut_aval == 1:\n",
    "        coconut_chutney()\n",
    "    elif coconut_aval == 0:\n",
    "        tomato_chutney()\n",
    "    else:\n",
    "        print(\"order something\")"
   ]
  },
  {
   "cell_type": "code",
   "execution_count": 31,
   "id": "b176cffd-f7db-4f01-b7c2-c33b1be50cbc",
   "metadata": {},
   "outputs": [
    {
     "name": "stdin",
     "output_type": "stream",
     "text": [
      " 1\n"
     ]
    }
   ],
   "source": [
    "coconut_aval = int(input())"
   ]
  },
  {
   "cell_type": "code",
   "execution_count": 33,
   "id": "ef8abbee-bf35-47d2-8386-5e726d088f0d",
   "metadata": {},
   "outputs": [],
   "source": [
    "coconut_aval_list = [1,0,0,1,1,0,100]"
   ]
  },
  {
   "cell_type": "code",
   "execution_count": 35,
   "id": "65535d18-ec42-42ec-af61-1da05df95c07",
   "metadata": {},
   "outputs": [
    {
     "data": {
      "text/plain": [
       "100"
      ]
     },
     "execution_count": 35,
     "metadata": {},
     "output_type": "execute_result"
    }
   ],
   "source": [
    "coconut_aval_list[-1]"
   ]
  },
  {
   "cell_type": "code",
   "execution_count": 37,
   "id": "09195ccf-f66f-4b79-928b-b4509cb37713",
   "metadata": {},
   "outputs": [
    {
     "name": "stdout",
     "output_type": "stream",
     "text": [
      "0\n",
      "1\n",
      "2\n",
      "3\n",
      "4\n",
      "5\n",
      "6\n"
     ]
    }
   ],
   "source": [
    "for i in range(7):\n",
    "    print(i)"
   ]
  },
  {
   "cell_type": "code",
   "execution_count": 39,
   "id": "4686cbdd-9fc6-48be-9d3f-f5bb65f25f00",
   "metadata": {},
   "outputs": [
    {
     "name": "stdout",
     "output_type": "stream",
     "text": [
      "coconut + groundnut + chilli + salt\n",
      "tomato + onion + chill + salt\n",
      "tomato + onion + chill + salt\n",
      "coconut + groundnut + chilli + salt\n",
      "coconut + groundnut + chilli + salt\n",
      "tomato + onion + chill + salt\n"
     ]
    }
   ],
   "source": [
    "for i in range(7):\n",
    "    if coconut_aval_list[i] == 1:\n",
    "        coconut_chutney()\n",
    "    elif coconut_aval_list[i] == 0:\n",
    "        tomato_chutney()\n",
    "    # else:\n",
    "    #     print(\"order something\")"
   ]
  },
  {
   "cell_type": "markdown",
   "id": "c9365fcd-d7a8-4a27-908c-2f44bc375ec7",
   "metadata": {},
   "source": [
    "# Ternary operation or conditional expressions"
   ]
  },
  {
   "cell_type": "code",
   "execution_count": 47,
   "id": "1114cc0f-b364-47c1-8a2f-4b3af1350a2c",
   "metadata": {},
   "outputs": [
    {
     "name": "stdout",
     "output_type": "stream",
     "text": [
      "coconut + groundnut + chilli + salt\n"
     ]
    }
   ],
   "source": [
    "coconut_chutney() if coconut_aval==1 else tomato_chutney()"
   ]
  },
  {
   "cell_type": "code",
   "execution_count": 80,
   "id": "78fdd808-31a2-4e47-9d90-e88610ce2ef6",
   "metadata": {},
   "outputs": [
    {
     "data": {
      "text/plain": [
       "'dine out'"
      ]
     },
     "execution_count": 80,
     "metadata": {},
     "output_type": "execute_result"
    }
   ],
   "source": [
    "coconut_chutney() if coconut_aval==1 else tomato_chutney() if coconut_aval==0 else \"dine out\""
   ]
  },
  {
   "cell_type": "code",
   "execution_count": 78,
   "id": "c4f7919b-5dcb-4686-8dc5-69a24e6316ca",
   "metadata": {},
   "outputs": [],
   "source": [
    "coconut_aval=11"
   ]
  },
  {
   "cell_type": "markdown",
   "id": "432dcc1c-ed58-4040-9990-bcb5c8a78708",
   "metadata": {},
   "source": [
    "# Conditional statement inside loops"
   ]
  },
  {
   "cell_type": "markdown",
   "id": "38c19a0e-99d0-4fe4-b66c-22d9e1d402c6",
   "metadata": {},
   "source": [
    "- break : to break a loop\n",
    "- continue : to stop what we are doing immediately yet continue\n",
    "- pass: do nothing"
   ]
  },
  {
   "cell_type": "code",
   "execution_count": 110,
   "id": "fbb96a6a-8673-4ca5-a2ac-2f2f21cef599",
   "metadata": {},
   "outputs": [
    {
     "data": {
      "text/plain": [
       "[1, 0, 0, 1, 1, 0, 100]"
      ]
     },
     "execution_count": 110,
     "metadata": {},
     "output_type": "execute_result"
    }
   ],
   "source": [
    "coconut_aval_list"
   ]
  },
  {
   "cell_type": "code",
   "execution_count": 118,
   "id": "67338334-d25d-4d58-8cff-bec00ec4bb4e",
   "metadata": {},
   "outputs": [
    {
     "name": "stdout",
     "output_type": "stream",
     "text": [
      "WEEK NO 1\n",
      "coconut + groundnut + chilli + salt\n",
      "yeah coconut chutney day it is!!!\n",
      "coconut + groundnut + chilli + salt\n",
      "yeah coconut chutney day it is!!!\n",
      "coconut + groundnut + chilli + salt\n",
      "yeah coconut chutney day it is!!!\n",
      "order something\n",
      "WEEK NO 2\n",
      "coconut + groundnut + chilli + salt\n",
      "yeah coconut chutney day it is!!!\n",
      "coconut + groundnut + chilli + salt\n",
      "yeah coconut chutney day it is!!!\n",
      "coconut + groundnut + chilli + salt\n",
      "yeah coconut chutney day it is!!!\n",
      "order something\n",
      "WEEK NO 3\n",
      "coconut + groundnut + chilli + salt\n",
      "yeah coconut chutney day it is!!!\n",
      "coconut + groundnut + chilli + salt\n",
      "yeah coconut chutney day it is!!!\n",
      "coconut + groundnut + chilli + salt\n",
      "yeah coconut chutney day it is!!!\n",
      "order something\n"
     ]
    }
   ],
   "source": [
    "for week in range(1,4):\n",
    "    print(\"WEEK NO\", week)\n",
    "    for i in range(7):\n",
    "        if coconut_aval_list[i] == 1:\n",
    "            coconut_chutney()\n",
    "            # continue\n",
    "            print(\"yeah coconut chutney day it is!!!\")\n",
    "        elif coconut_aval_list[i] == 0:\n",
    "            # break\n",
    "            # tomato_chutney()\n",
    "            pass\n",
    "        else:\n",
    "          print(\"order something\") "
   ]
  },
  {
   "cell_type": "markdown",
   "id": "ceb6c523-fcbd-4e5f-8eb8-78f0af205c39",
   "metadata": {},
   "source": [
    "# Nested Loops"
   ]
  },
  {
   "cell_type": "code",
   "execution_count": 89,
   "id": "f85fdd02-fff6-4104-9e3d-bc172322a84f",
   "metadata": {},
   "outputs": [
    {
     "data": {
      "text/plain": [
       "[1, 0, 0, 1, 1, 0, 100]"
      ]
     },
     "execution_count": 89,
     "metadata": {},
     "output_type": "execute_result"
    }
   ],
   "source": [
    "coconut_aval_list"
   ]
  },
  {
   "cell_type": "code",
   "execution_count": 91,
   "id": "147f4d4d-a945-4a63-9929-dc03b2c05fad",
   "metadata": {},
   "outputs": [
    {
     "name": "stdout",
     "output_type": "stream",
     "text": [
      "WEEK NO 1\n",
      "coconut + groundnut + chilli + salt\n",
      "tomato + onion + chill + salt\n",
      "tomato + onion + chill + salt\n",
      "coconut + groundnut + chilli + salt\n",
      "coconut + groundnut + chilli + salt\n",
      "tomato + onion + chill + salt\n",
      "order something\n",
      "WEEK NO 2\n",
      "coconut + groundnut + chilli + salt\n",
      "tomato + onion + chill + salt\n",
      "tomato + onion + chill + salt\n",
      "coconut + groundnut + chilli + salt\n",
      "coconut + groundnut + chilli + salt\n",
      "tomato + onion + chill + salt\n",
      "order something\n",
      "WEEK NO 3\n",
      "coconut + groundnut + chilli + salt\n",
      "tomato + onion + chill + salt\n",
      "tomato + onion + chill + salt\n",
      "coconut + groundnut + chilli + salt\n",
      "coconut + groundnut + chilli + salt\n",
      "tomato + onion + chill + salt\n",
      "order something\n"
     ]
    }
   ],
   "source": [
    "for week in range(1,4):\n",
    "    print(\"WEEK NO\", week)\n",
    "    for i in range(7):\n",
    "        if coconut_aval_list[i] == 1:\n",
    "            coconut_chutney()\n",
    "        elif coconut_aval_list[i] == 0:\n",
    "            tomato_chutney()\n",
    "        else:\n",
    "          print(\"order something\")   "
   ]
  },
  {
   "cell_type": "code",
   "execution_count": 103,
   "id": "70e06acc-6bc4-4ceb-a919-90c76e667312",
   "metadata": {},
   "outputs": [
    {
     "name": "stdout",
     "output_type": "stream",
     "text": [
      "WEEK NO 1\n",
      "coconut + groundnut + chilli + salt\n",
      "tomato + onion + chill + salt\n",
      "tomato + onion + chill + salt\n",
      "coconut + groundnut + chilli + salt\n",
      "coconut + groundnut + chilli + salt\n",
      "tomato + onion + chill + salt\n",
      "order something\n",
      "WEEK NO 2\n",
      "coconut + groundnut + chilli + salt\n",
      "tomato + onion + chill + salt\n",
      "tomato + onion + chill + salt\n",
      "coconut + groundnut + chilli + salt\n",
      "coconut + groundnut + chilli + salt\n",
      "tomato + onion + chill + salt\n",
      "order something\n",
      "WEEK NO 3\n",
      "coconut + groundnut + chilli + salt\n",
      "tomato + onion + chill + salt\n",
      "tomato + onion + chill + salt\n",
      "coconut + groundnut + chilli + salt\n",
      "coconut + groundnut + chilli + salt\n",
      "tomato + onion + chill + salt\n",
      "order something\n"
     ]
    }
   ],
   "source": [
    "week_counter = 1\n",
    "while week_counter < 4:\n",
    "    day_counter = 0\n",
    "    print(\"WEEK NO\", week_counter)\n",
    "    while day_counter<7:\n",
    "        if coconut_aval_list[day_counter] == 1:\n",
    "            coconut_chutney()\n",
    "        elif coconut_aval_list[day_counter] == 0:\n",
    "            tomato_chutney()\n",
    "        else:\n",
    "          print(\"order something\")\n",
    "        day_counter+=1\n",
    "    week_counter+=1"
   ]
  },
  {
   "cell_type": "code",
   "execution_count": null,
   "id": "fe551e9d-502c-42a8-b941-462f7904dd0e",
   "metadata": {},
   "outputs": [],
   "source": [
    "if db_changes == 0:\n",
    "    pass\n",
    "else:\n",
    "    update_local()"
   ]
  },
  {
   "cell_type": "code",
   "execution_count": 120,
   "id": "0477f4bb-a36d-46ba-b267-dea0620907a3",
   "metadata": {},
   "outputs": [
    {
     "name": "stdout",
     "output_type": "stream",
     "text": [
      "1\n",
      "2\n",
      "3\n"
     ]
    }
   ],
   "source": [
    "print(1)\n",
    "print(2)\n",
    "print(3)"
   ]
  },
  {
   "cell_type": "code",
   "execution_count": 122,
   "id": "5e2ebcfd-a990-47a0-9f42-f3fe0aa83f20",
   "metadata": {},
   "outputs": [],
   "source": [
    "def check_status(code):\n",
    "    match code:\n",
    "        case 200:\n",
    "            return \"OK\"\n",
    "        case 404:\n",
    "            return \"Not Found\"\n",
    "        case _:\n",
    "            return \"Unknown\""
   ]
  },
  {
   "cell_type": "code",
   "execution_count": 128,
   "id": "66444d24-9b6e-4886-9658-77809e207c88",
   "metadata": {},
   "outputs": [
    {
     "data": {
      "text/plain": [
       "'OK'"
      ]
     },
     "execution_count": 128,
     "metadata": {},
     "output_type": "execute_result"
    }
   ],
   "source": [
    "check_status(200)"
   ]
  },
  {
   "cell_type": "code",
   "execution_count": 126,
   "id": "8f3fc294-966a-4290-8a52-c941955a9dcf",
   "metadata": {},
   "outputs": [],
   "source": [
    "def check_status(code):\n",
    "    if code == 200:\n",
    "        return \"OK\"\n",
    "    elif code == 404:\n",
    "        return \"Not Found\"\n",
    "    elif code == \"_\":\n",
    "        return \"Unknown\""
   ]
  },
  {
   "cell_type": "code",
   "execution_count": null,
   "id": "49a2f580-4b24-4fef-9dfc-c16f5c85295f",
   "metadata": {},
   "outputs": [],
   "source": []
  }
 ],
 "metadata": {
  "kernelspec": {
   "display_name": "Python 3 (ipykernel)",
   "language": "python",
   "name": "python3"
  },
  "language_info": {
   "codemirror_mode": {
    "name": "ipython",
    "version": 3
   },
   "file_extension": ".py",
   "mimetype": "text/x-python",
   "name": "python",
   "nbconvert_exporter": "python",
   "pygments_lexer": "ipython3",
   "version": "3.12.4"
  }
 },
 "nbformat": 4,
 "nbformat_minor": 5
}
