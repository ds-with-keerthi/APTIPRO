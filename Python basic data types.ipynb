{
 "cells": [
  {
   "cell_type": "markdown",
   "id": "d4702ce3-a448-43d2-ab55-37ef213fe42d",
   "metadata": {},
   "source": [
    "## OVERVIEW\n",
    "1. Introduction to Data Types\n",
    "2. Importance of Data Types in Programming\n",
    "3. Basic Data Types\n",
    "   - Integers\n",
    "   - Floating-point numbers\n",
    "   - Strings\n",
    "   - Booleans\n",
    "5. Type Conversion\n",
    "6. Practical Examples"
   ]
  },
  {
   "cell_type": "markdown",
   "id": "149a6f24-0831-428f-8397-2acd03aa0533",
   "metadata": {},
   "source": [
    "#### 1. Definition:\n",
    "\n",
    "- Data types are a classification of data which tell the compiler or interpreter how the programmer intends to use the data.\n",
    "- They determine the type of operations that can be performed on the data, the values that the data can take, and the amount of memory needed to store the data.\n",
    "\n",
    "#### 2. Importance of Data Types in Programming\n",
    "Explanation:\n",
    "\n",
    "- Data types ensure that data is stored in an efficient way.\n",
    "- They help in performing correct operations on data.\n",
    "- Proper use of data types can prevent errors and bugs in the program."
   ]
  },
  {
   "cell_type": "markdown",
   "id": "96e013cd-a9d9-4c0f-be76-2cb7cb7d20f6",
   "metadata": {},
   "source": [
    "### int → Integer values"
   ]
  },
  {
   "cell_type": "code",
   "execution_count": 2,
   "id": "194f12f0-e8c3-4377-a42c-dc8fb997bb4f",
   "metadata": {},
   "outputs": [],
   "source": [
    "age = 12"
   ]
  },
  {
   "cell_type": "code",
   "execution_count": 3,
   "id": "3633127e-3c75-4916-8eb5-c930f449f4d4",
   "metadata": {},
   "outputs": [],
   "source": [
    "weight = -12"
   ]
  },
  {
   "cell_type": "code",
   "execution_count": 5,
   "id": "54822727-9331-4adc-b95d-32c18ecd0eb7",
   "metadata": {},
   "outputs": [
    {
     "data": {
      "text/plain": [
       "int"
      ]
     },
     "execution_count": 5,
     "metadata": {},
     "output_type": "execute_result"
    }
   ],
   "source": [
    "type(weight)"
   ]
  },
  {
   "cell_type": "markdown",
   "id": "f2fd7ae7-d684-45b1-aa3d-6e22a14a1c98",
   "metadata": {},
   "source": [
    "### float → Floating-point numbers "
   ]
  },
  {
   "cell_type": "code",
   "execution_count": 8,
   "id": "cb45b3fe-754e-4fc3-bd19-2b223106aae1",
   "metadata": {},
   "outputs": [],
   "source": [
    "weight = -60.2"
   ]
  },
  {
   "cell_type": "code",
   "execution_count": 9,
   "id": "b00ea55a-6ee9-4355-a444-1b310d8e710a",
   "metadata": {},
   "outputs": [
    {
     "data": {
      "text/plain": [
       "float"
      ]
     },
     "execution_count": 9,
     "metadata": {},
     "output_type": "execute_result"
    }
   ],
   "source": [
    "type(weight)"
   ]
  },
  {
   "cell_type": "markdown",
   "id": "2c93307a-2c43-4712-9fac-c0ab92abd074",
   "metadata": {},
   "source": [
    "### str → String"
   ]
  },
  {
   "cell_type": "code",
   "execution_count": 10,
   "id": "6e3d00fe-b05b-4dad-93ca-8c6f8b2ae06a",
   "metadata": {},
   "outputs": [],
   "source": [
    "name = 'keerthi'"
   ]
  },
  {
   "cell_type": "code",
   "execution_count": 15,
   "id": "37a779d1-3f3a-4028-b3ad-57f3ccde7f28",
   "metadata": {},
   "outputs": [
    {
     "data": {
      "text/plain": [
       "'t'"
      ]
     },
     "execution_count": 15,
     "metadata": {},
     "output_type": "execute_result"
    }
   ],
   "source": [
    "name[-3]"
   ]
  },
  {
   "cell_type": "code",
   "execution_count": 11,
   "id": "8f4cde41-cccc-4faa-8453-d3f1538b3653",
   "metadata": {},
   "outputs": [
    {
     "data": {
      "text/plain": [
       "str"
      ]
     },
     "execution_count": 11,
     "metadata": {},
     "output_type": "execute_result"
    }
   ],
   "source": [
    "type(name)"
   ]
  },
  {
   "cell_type": "markdown",
   "id": "d71785be-6926-4dbd-a6bb-967ca191b4a3",
   "metadata": {},
   "source": [
    "### bool → Boolean values "
   ]
  },
  {
   "cell_type": "code",
   "execution_count": 16,
   "id": "cf19589a-cd99-4ba5-9578-e6956a51332a",
   "metadata": {},
   "outputs": [],
   "source": [
    "is_adult = True"
   ]
  },
  {
   "cell_type": "code",
   "execution_count": 17,
   "id": "2b1dc7a2-bfc6-4dd5-b6c3-980f9f278f45",
   "metadata": {},
   "outputs": [
    {
     "data": {
      "text/plain": [
       "bool"
      ]
     },
     "execution_count": 17,
     "metadata": {},
     "output_type": "execute_result"
    }
   ],
   "source": [
    "type(is_adult)"
   ]
  },
  {
   "cell_type": "code",
   "execution_count": 18,
   "id": "348df0d2-cad1-408b-b6ed-68040c56d44a",
   "metadata": {},
   "outputs": [],
   "source": [
    "a = 1; b =1"
   ]
  },
  {
   "cell_type": "code",
   "execution_count": 20,
   "id": "a63a0820-5e0b-46da-8928-ff5eb4fdcc6f",
   "metadata": {},
   "outputs": [
    {
     "data": {
      "text/plain": [
       "bool"
      ]
     },
     "execution_count": 20,
     "metadata": {},
     "output_type": "execute_result"
    }
   ],
   "source": [
    "type(a == b)"
   ]
  },
  {
   "cell_type": "markdown",
   "id": "04146a33-8cf8-4d0c-b8de-4acc1c56f146",
   "metadata": {},
   "source": [
    "## Data type Declaration"
   ]
  },
  {
   "cell_type": "code",
   "execution_count": 21,
   "id": "e74143c7-e0a3-45a4-9606-c3740518039a",
   "metadata": {},
   "outputs": [],
   "source": [
    "name = str('Keerthi')\n",
    "age = int(28)\n",
    "weight = float(60.2)\n",
    "is_adult = bool(True)"
   ]
  },
  {
   "cell_type": "code",
   "execution_count": 23,
   "id": "e144279c-1cff-49f6-942f-fef8c01a733d",
   "metadata": {},
   "outputs": [
    {
     "data": {
      "text/plain": [
       "True"
      ]
     },
     "execution_count": 23,
     "metadata": {},
     "output_type": "execute_result"
    }
   ],
   "source": [
    "bool(1234)"
   ]
  },
  {
   "cell_type": "code",
   "execution_count": 25,
   "id": "9b790be1-d9ec-40c2-ab9f-ced763b56baf",
   "metadata": {},
   "outputs": [
    {
     "data": {
      "text/plain": [
       "False"
      ]
     },
     "execution_count": 25,
     "metadata": {},
     "output_type": "execute_result"
    }
   ],
   "source": [
    "bool('')"
   ]
  },
  {
   "cell_type": "markdown",
   "id": "e80ebaef-c604-4311-98e7-935c807d7723",
   "metadata": {},
   "source": [
    "### Type conversion(type casting)\n",
    "- int to str\n",
    "- int to float\n",
    "- int to bool\n",
    "- but not str to int & str to float\n",
    "- boolean 0 = false, all others boolean = True"
   ]
  },
  {
   "cell_type": "code",
   "execution_count": 26,
   "id": "4d911f45-ed16-46e6-ba36-a867c85012b1",
   "metadata": {},
   "outputs": [],
   "source": [
    "age = str(\"twenty eight\")"
   ]
  },
  {
   "cell_type": "code",
   "execution_count": 27,
   "id": "8dc81f16-bec9-4420-a78b-cfebaf8f89f8",
   "metadata": {},
   "outputs": [],
   "source": [
    "age_bool = bool(28)"
   ]
  },
  {
   "cell_type": "code",
   "execution_count": 28,
   "id": "389a4107-797f-468a-a7c0-426cc9f86276",
   "metadata": {},
   "outputs": [
    {
     "data": {
      "text/plain": [
       "True"
      ]
     },
     "execution_count": 28,
     "metadata": {},
     "output_type": "execute_result"
    }
   ],
   "source": [
    "age_bool"
   ]
  },
  {
   "cell_type": "code",
   "execution_count": 30,
   "id": "4bde9587-49bb-490b-9e27-6e5350028345",
   "metadata": {},
   "outputs": [
    {
     "ename": "ValueError",
     "evalue": "could not convert string to float: 'Keerthi'",
     "output_type": "error",
     "traceback": [
      "\u001b[1;31m---------------------------------------------------------------------------\u001b[0m",
      "\u001b[1;31mValueError\u001b[0m                                Traceback (most recent call last)",
      "Cell \u001b[1;32mIn[30], line 1\u001b[0m\n\u001b[1;32m----> 1\u001b[0m name_str_to_int \u001b[38;5;241m=\u001b[39m \u001b[38;5;28;43mfloat\u001b[39;49m\u001b[43m(\u001b[49m\u001b[38;5;124;43m'\u001b[39;49m\u001b[38;5;124;43mKeerthi\u001b[39;49m\u001b[38;5;124;43m'\u001b[39;49m\u001b[43m)\u001b[49m\n",
      "\u001b[1;31mValueError\u001b[0m: could not convert string to float: 'Keerthi'"
     ]
    }
   ],
   "source": [
    "name_str_to_int = float('Keerthi')"
   ]
  },
  {
   "cell_type": "code",
   "execution_count": 31,
   "id": "9528e7d7-37f9-41c8-829a-956a7add992b",
   "metadata": {},
   "outputs": [],
   "source": [
    "name_str_to_bool = bool('Keerthi')"
   ]
  },
  {
   "cell_type": "code",
   "execution_count": 32,
   "id": "de8420fe-3994-4355-b7bb-eed7e839daed",
   "metadata": {},
   "outputs": [
    {
     "data": {
      "text/plain": [
       "True"
      ]
     },
     "execution_count": 32,
     "metadata": {},
     "output_type": "execute_result"
    }
   ],
   "source": [
    "name_str_to_bool"
   ]
  },
  {
   "cell_type": "code",
   "execution_count": 34,
   "id": "6e92d226-7ece-410d-b906-c77aef905a69",
   "metadata": {},
   "outputs": [
    {
     "name": "stdout",
     "output_type": "stream",
     "text": [
      "15\n"
     ]
    }
   ],
   "source": [
    "x = 10\n",
    "y = int(\"5\")\n",
    "print(x + y)"
   ]
  },
  {
   "cell_type": "code",
   "execution_count": 35,
   "id": "6a9421d9-21f7-47d6-bdcd-7387cfdca02d",
   "metadata": {},
   "outputs": [
    {
     "name": "stdout",
     "output_type": "stream",
     "text": [
      "10\n"
     ]
    }
   ],
   "source": [
    "print(x)"
   ]
  },
  {
   "cell_type": "code",
   "execution_count": 36,
   "id": "6908d848-82be-4512-b851-a097776557b2",
   "metadata": {},
   "outputs": [
    {
     "ename": "NameError",
     "evalue": "name 'Print' is not defined",
     "output_type": "error",
     "traceback": [
      "\u001b[1;31m---------------------------------------------------------------------------\u001b[0m",
      "\u001b[1;31mNameError\u001b[0m                                 Traceback (most recent call last)",
      "Cell \u001b[1;32mIn[36], line 1\u001b[0m\n\u001b[1;32m----> 1\u001b[0m \u001b[43mPrint\u001b[49m()\n",
      "\u001b[1;31mNameError\u001b[0m: name 'Print' is not defined"
     ]
    }
   ],
   "source": [
    "Print()"
   ]
  },
  {
   "cell_type": "code",
   "execution_count": 41,
   "id": "33e5b9da-e846-479e-a231-f0d0c12e3583",
   "metadata": {},
   "outputs": [
    {
     "ename": "SyntaxError",
     "evalue": "unexpected character after line continuation character (2365056122.py, line 1)",
     "output_type": "error",
     "traceback": [
      "\u001b[1;36m  Cell \u001b[1;32mIn[41], line 1\u001b[1;36m\u001b[0m\n\u001b[1;33m    p = 5 + 10 + 15 + \\\u001b[0m\n\u001b[1;37m                       ^\u001b[0m\n\u001b[1;31mSyntaxError\u001b[0m\u001b[1;31m:\u001b[0m unexpected character after line continuation character\n"
     ]
    }
   ],
   "source": [
    "p = 5 + 10 + 15 + \\ \n",
    "20"
   ]
  },
  {
   "cell_type": "code",
   "execution_count": 42,
   "id": "1b1dcb80-3d45-4c0b-a65b-98543efe3c16",
   "metadata": {},
   "outputs": [
    {
     "ename": "SyntaxError",
     "evalue": "unexpected character after line continuation character (1983027342.py, line 1)",
     "output_type": "error",
     "traceback": [
      "\u001b[1;36m  Cell \u001b[1;32mIn[42], line 1\u001b[1;36m\u001b[0m\n\u001b[1;33m    def Print(a, \\\u001b[0m\n\u001b[1;37m                  ^\u001b[0m\n\u001b[1;31mSyntaxError\u001b[0m\u001b[1;31m:\u001b[0m unexpected character after line continuation character\n"
     ]
    }
   ],
   "source": [
    "def Print(a, \\ \n",
    "          b):\n",
    "    return True"
   ]
  },
  {
   "cell_type": "code",
   "execution_count": 43,
   "id": "50055b03-ed1f-44de-b429-6a4a6180fb30",
   "metadata": {},
   "outputs": [],
   "source": [
    "While = 2"
   ]
  },
  {
   "cell_type": "code",
   "execution_count": 44,
   "id": "ed879f1b-28f4-4d6f-b8da-18b51dec1ac4",
   "metadata": {},
   "outputs": [
    {
     "name": "stdout",
     "output_type": "stream",
     "text": [
      "3\n"
     ]
    }
   ],
   "source": [
    "x = 1; y = x + 2; print(y) "
   ]
  },
  {
   "cell_type": "code",
   "execution_count": 45,
   "id": "9f904751-3b5b-4d9e-a35f-e52d58629bd6",
   "metadata": {},
   "outputs": [
    {
     "ename": "SyntaxError",
     "evalue": "invalid syntax (1410751299.py, line 1)",
     "output_type": "error",
     "traceback": [
      "\u001b[1;36m  Cell \u001b[1;32mIn[45], line 1\u001b[1;36m\u001b[0m\n\u001b[1;33m    class = 100\u001b[0m\n\u001b[1;37m          ^\u001b[0m\n\u001b[1;31mSyntaxError\u001b[0m\u001b[1;31m:\u001b[0m invalid syntax\n"
     ]
    }
   ],
   "source": [
    "class = 100\n",
    "print(class)"
   ]
  },
  {
   "cell_type": "code",
   "execution_count": null,
   "id": "86235d2e-f4e9-459f-a0ab-c23c9c3a0842",
   "metadata": {},
   "outputs": [],
   "source": []
  }
 ],
 "metadata": {
  "kernelspec": {
   "display_name": "Python 3 (ipykernel)",
   "language": "python",
   "name": "python3"
  },
  "language_info": {
   "codemirror_mode": {
    "name": "ipython",
    "version": 3
   },
   "file_extension": ".py",
   "mimetype": "text/x-python",
   "name": "python",
   "nbconvert_exporter": "python",
   "pygments_lexer": "ipython3",
   "version": "3.10.14"
  }
 },
 "nbformat": 4,
 "nbformat_minor": 5
}
