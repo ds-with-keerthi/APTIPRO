{
 "cells": [
  {
   "cell_type": "markdown",
   "id": "e4e7836b-31b2-4a1d-b67a-9ab940df15e3",
   "metadata": {},
   "source": [
    "# What are Operators?\n",
    "\n",
    "Operators are used to perform operations on variables and values."
   ]
  },
  {
   "cell_type": "markdown",
   "id": "1f44f3e1-da84-4f75-8221-7d1aac9ac06c",
   "metadata": {},
   "source": [
    "Python divides the operators in the following groups:\n",
    "\n",
    "- Arithmetic operators\n",
    "- Assignment operators\n",
    "- Comparison operators\n",
    "- Logical operators\n",
    "- Identity operators\n",
    "- Membership operators\n",
    "- Bitwise operators"
   ]
  },
  {
   "cell_type": "markdown",
   "id": "3ce4093b-6327-4bc1-b1db-7b7ad04b1e9d",
   "metadata": {},
   "source": [
    "# Arithmetic operators"
   ]
  },
  {
   "cell_type": "code",
   "execution_count": 10,
   "id": "987c3382-c3a1-4423-be88-2ca557329150",
   "metadata": {},
   "outputs": [],
   "source": [
    "a = 10.1\n",
    "b = 5.1"
   ]
  },
  {
   "cell_type": "code",
   "execution_count": 11,
   "id": "1b06842c-f7b8-48be-8980-aa93ebb38fd1",
   "metadata": {},
   "outputs": [
    {
     "data": {
      "text/plain": [
       "15.2"
      ]
     },
     "execution_count": 11,
     "metadata": {},
     "output_type": "execute_result"
    }
   ],
   "source": [
    "a + b "
   ]
  },
  {
   "cell_type": "code",
   "execution_count": 5,
   "id": "5186a640-3edc-4b09-a54f-8e2e9cade2a3",
   "metadata": {},
   "outputs": [
    {
     "data": {
      "text/plain": [
       "int"
      ]
     },
     "execution_count": 5,
     "metadata": {},
     "output_type": "execute_result"
    }
   ],
   "source": [
    "type(a)"
   ]
  },
  {
   "cell_type": "code",
   "execution_count": 6,
   "id": "b3e31d6a-0211-41d1-98c6-91b6b6e9dcc6",
   "metadata": {},
   "outputs": [],
   "source": [
    "first_name = 'Keerthana'\n",
    "last_name = 'Selvam'"
   ]
  },
  {
   "cell_type": "code",
   "execution_count": 8,
   "id": "3165a563-0d92-4fc8-be69-fac88d88fa72",
   "metadata": {},
   "outputs": [
    {
     "data": {
      "text/plain": [
       "str"
      ]
     },
     "execution_count": 8,
     "metadata": {},
     "output_type": "execute_result"
    }
   ],
   "source": [
    "type(last_name)"
   ]
  },
  {
   "cell_type": "code",
   "execution_count": 9,
   "id": "743ef33d-2fba-46db-9cdb-94c979872a4a",
   "metadata": {},
   "outputs": [
    {
     "data": {
      "text/plain": [
       "'KeerthanaSelvam'"
      ]
     },
     "execution_count": 9,
     "metadata": {},
     "output_type": "execute_result"
    }
   ],
   "source": [
    "first_name + last_name"
   ]
  },
  {
   "cell_type": "code",
   "execution_count": 12,
   "id": "88d206a2-4298-4cf0-8857-4a47ad808c29",
   "metadata": {},
   "outputs": [],
   "source": [
    "bool_1 = True"
   ]
  },
  {
   "cell_type": "code",
   "execution_count": 13,
   "id": "0800257c-b7dd-47de-8d6a-7cc6e67dcb3e",
   "metadata": {},
   "outputs": [],
   "source": [
    "bool_2 = False"
   ]
  },
  {
   "cell_type": "code",
   "execution_count": 17,
   "id": "f4d05132-82c4-49a2-b108-b3331d16a874",
   "metadata": {},
   "outputs": [
    {
     "data": {
      "text/plain": [
       "0"
      ]
     },
     "execution_count": 17,
     "metadata": {},
     "output_type": "execute_result"
    }
   ],
   "source": [
    "int(bool_2)"
   ]
  },
  {
   "cell_type": "code",
   "execution_count": 18,
   "id": "e4aac63d-815f-49b8-ba99-bbd6adffbc5f",
   "metadata": {},
   "outputs": [
    {
     "data": {
      "text/plain": [
       "1"
      ]
     },
     "execution_count": 18,
     "metadata": {},
     "output_type": "execute_result"
    }
   ],
   "source": [
    "bool_1 + bool_2"
   ]
  },
  {
   "cell_type": "code",
   "execution_count": 26,
   "id": "40b7e093-bd08-47e9-b6ec-92e951ccfc5f",
   "metadata": {},
   "outputs": [],
   "source": [
    "a = 1 \n",
    "b = 'keerthi'"
   ]
  },
  {
   "cell_type": "code",
   "execution_count": 27,
   "id": "bd2d80cc-4048-4055-a86c-77779b19cbdb",
   "metadata": {},
   "outputs": [
    {
     "data": {
      "text/plain": [
       "str"
      ]
     },
     "execution_count": 27,
     "metadata": {},
     "output_type": "execute_result"
    }
   ],
   "source": [
    "type(b)"
   ]
  },
  {
   "cell_type": "code",
   "execution_count": 29,
   "id": "feec4e55-36ea-4adc-8d65-e47787ec86cf",
   "metadata": {},
   "outputs": [
    {
     "data": {
      "text/plain": [
       "'1keerthi'"
      ]
     },
     "execution_count": 29,
     "metadata": {},
     "output_type": "execute_result"
    }
   ],
   "source": [
    "str(a) + b"
   ]
  },
  {
   "cell_type": "code",
   "execution_count": 30,
   "id": "4c1ba0c3-e60c-4e32-94b9-fa6492ba78e6",
   "metadata": {},
   "outputs": [
    {
     "name": "stdout",
     "output_type": "stream",
     "text": [
      "41 2\n"
     ]
    }
   ],
   "source": [
    "x = 2.1\n",
    "y = 5\n",
    "\n",
    "res = x ** y\n",
    "\n",
    "print(round(res), 2) #same as 2*2*2*2*2"
   ]
  },
  {
   "cell_type": "code",
   "execution_count": 31,
   "id": "f566c96c-efc9-4493-8709-e47aa657eff3",
   "metadata": {},
   "outputs": [
    {
     "data": {
      "text/plain": [
       "40.84101000000001"
      ]
     },
     "execution_count": 31,
     "metadata": {},
     "output_type": "execute_result"
    }
   ],
   "source": [
    "res"
   ]
  },
  {
   "cell_type": "markdown",
   "id": "c8a8546b-9d37-4071-956d-fafe1b9cb373",
   "metadata": {},
   "source": [
    "# Assignment operators"
   ]
  },
  {
   "cell_type": "code",
   "execution_count": 32,
   "id": "603f5b1d-ddfb-4264-89be-5d9db896566b",
   "metadata": {},
   "outputs": [],
   "source": [
    "a = 1\n",
    "a = a + 5"
   ]
  },
  {
   "cell_type": "code",
   "execution_count": 36,
   "id": "95775718-a8f2-45a2-abae-8b9766bfce06",
   "metadata": {},
   "outputs": [],
   "source": [
    "aa = 1"
   ]
  },
  {
   "cell_type": "code",
   "execution_count": 37,
   "id": "d06ec485-26be-4784-813b-6c2eb0449bcc",
   "metadata": {},
   "outputs": [],
   "source": [
    "aa*=5"
   ]
  },
  {
   "cell_type": "code",
   "execution_count": 39,
   "id": "6af91a82-e545-4ace-b849-1448401a37d8",
   "metadata": {},
   "outputs": [
    {
     "data": {
      "text/plain": [
       "6"
      ]
     },
     "execution_count": 39,
     "metadata": {},
     "output_type": "execute_result"
    }
   ],
   "source": [
    "aa"
   ]
  },
  {
   "cell_type": "markdown",
   "id": "b281ba6c-a39d-4e0b-bf98-25e8706153cb",
   "metadata": {},
   "source": [
    "# Comparison operators"
   ]
  },
  {
   "cell_type": "code",
   "execution_count": null,
   "id": "de35f6c8-f8e1-48f5-8f8b-6670f92987a0",
   "metadata": {},
   "outputs": [],
   "source": []
  },
  {
   "cell_type": "code",
   "execution_count": null,
   "id": "232c37be-4985-443b-84fc-a1b3f61212ed",
   "metadata": {},
   "outputs": [],
   "source": []
  },
  {
   "cell_type": "markdown",
   "id": "62fbb536-e8ac-40f4-8af8-cb79857115d8",
   "metadata": {},
   "source": [
    "# Logical operators"
   ]
  },
  {
   "cell_type": "code",
   "execution_count": 40,
   "id": "a77d2aa6-cc12-4cc4-a98c-cae7070bdb50",
   "metadata": {},
   "outputs": [],
   "source": [
    "a = True\n",
    "b = False"
   ]
  },
  {
   "cell_type": "code",
   "execution_count": 41,
   "id": "f6afe81d-628e-4ac6-bebf-0499f8fc3845",
   "metadata": {},
   "outputs": [
    {
     "data": {
      "text/plain": [
       "False"
      ]
     },
     "execution_count": 41,
     "metadata": {},
     "output_type": "execute_result"
    }
   ],
   "source": [
    "a and b"
   ]
  },
  {
   "cell_type": "code",
   "execution_count": 42,
   "id": "e81bfc46-849f-4057-9e1d-dc2f74bf3cd3",
   "metadata": {},
   "outputs": [
    {
     "data": {
      "text/plain": [
       "True"
      ]
     },
     "execution_count": 42,
     "metadata": {},
     "output_type": "execute_result"
    }
   ],
   "source": [
    "a or b"
   ]
  },
  {
   "cell_type": "code",
   "execution_count": 43,
   "id": "c9cb6d93-197c-4413-b3b4-683a2dd1ac30",
   "metadata": {},
   "outputs": [
    {
     "data": {
      "text/plain": [
       "False"
      ]
     },
     "execution_count": 43,
     "metadata": {},
     "output_type": "execute_result"
    }
   ],
   "source": [
    "not a"
   ]
  },
  {
   "cell_type": "markdown",
   "id": "fac1e6a1-3260-4701-a55f-c5bed64c0d37",
   "metadata": {},
   "source": [
    "# Bitwise operators"
   ]
  },
  {
   "cell_type": "code",
   "execution_count": 44,
   "id": "eca5a0e7-4f31-400a-85d4-4bee2f92b0d0",
   "metadata": {},
   "outputs": [],
   "source": [
    "x = \"10\"\n",
    "y = 5.6"
   ]
  },
  {
   "cell_type": "code",
   "execution_count": 45,
   "id": "c65f0583-8ad6-463a-9192-dee2ff51ffaa",
   "metadata": {},
   "outputs": [
    {
     "data": {
      "text/plain": [
       "15"
      ]
     },
     "execution_count": 45,
     "metadata": {},
     "output_type": "execute_result"
    }
   ],
   "source": [
    "int(x) + int(y)"
   ]
  },
  {
   "cell_type": "code",
   "execution_count": 46,
   "id": "4698cb77-30ae-4106-91fc-ceee1a37387f",
   "metadata": {},
   "outputs": [
    {
     "data": {
      "text/plain": [
       "0"
      ]
     },
     "execution_count": 46,
     "metadata": {},
     "output_type": "execute_result"
    }
   ],
   "source": [
    "int(0.5)"
   ]
  },
  {
   "cell_type": "code",
   "execution_count": 48,
   "id": "17555c42-01ea-4aa4-a087-ce12e5fd4ff9",
   "metadata": {},
   "outputs": [
    {
     "name": "stdout",
     "output_type": "stream",
     "text": [
      "<class 'str'>\n"
     ]
    }
   ],
   "source": [
    "print(type(x))"
   ]
  },
  {
   "cell_type": "code",
   "execution_count": null,
   "id": "f8758fa2-5de1-48df-aa72-5545fffa5453",
   "metadata": {},
   "outputs": [],
   "source": []
  }
 ],
 "metadata": {
  "kernelspec": {
   "display_name": "Python 3 (ipykernel)",
   "language": "python",
   "name": "python3"
  },
  "language_info": {
   "codemirror_mode": {
    "name": "ipython",
    "version": 3
   },
   "file_extension": ".py",
   "mimetype": "text/x-python",
   "name": "python",
   "nbconvert_exporter": "python",
   "pygments_lexer": "ipython3",
   "version": "3.10.14"
  }
 },
 "nbformat": 4,
 "nbformat_minor": 5
}
